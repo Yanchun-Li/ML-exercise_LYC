{
 "cells": [
  {
   "cell_type": "code",
   "execution_count": 1,
   "id": "b5422f69",
   "metadata": {},
   "outputs": [],
   "source": [
    "import numpy as np\n",
    "import pandas as pd\n",
    "import matplotlib.pyplot as plt\n",
    "import seaborn as sns\n",
    "import scipy.optimize as opt\n",
    "from sklearn.metrics import classification_report#这个包是评价报告"
   ]
  },
  {
   "cell_type": "code",
   "execution_count": 2,
   "id": "bfc3bb56",
   "metadata": {},
   "outputs": [
    {
     "data": {
      "text/html": [
       "<div>\n",
       "<style scoped>\n",
       "    .dataframe tbody tr th:only-of-type {\n",
       "        vertical-align: middle;\n",
       "    }\n",
       "\n",
       "    .dataframe tbody tr th {\n",
       "        vertical-align: top;\n",
       "    }\n",
       "\n",
       "    .dataframe thead th {\n",
       "        text-align: right;\n",
       "    }\n",
       "</style>\n",
       "<table border=\"1\" class=\"dataframe\">\n",
       "  <thead>\n",
       "    <tr style=\"text-align: right;\">\n",
       "      <th></th>\n",
       "      <th>text1</th>\n",
       "      <th>text2</th>\n",
       "      <th>admitted</th>\n",
       "    </tr>\n",
       "  </thead>\n",
       "  <tbody>\n",
       "    <tr>\n",
       "      <th>0</th>\n",
       "      <td>34.623660</td>\n",
       "      <td>78.024693</td>\n",
       "      <td>0</td>\n",
       "    </tr>\n",
       "    <tr>\n",
       "      <th>1</th>\n",
       "      <td>30.286711</td>\n",
       "      <td>43.894998</td>\n",
       "      <td>0</td>\n",
       "    </tr>\n",
       "    <tr>\n",
       "      <th>2</th>\n",
       "      <td>35.847409</td>\n",
       "      <td>72.902198</td>\n",
       "      <td>0</td>\n",
       "    </tr>\n",
       "    <tr>\n",
       "      <th>3</th>\n",
       "      <td>60.182599</td>\n",
       "      <td>86.308552</td>\n",
       "      <td>1</td>\n",
       "    </tr>\n",
       "    <tr>\n",
       "      <th>4</th>\n",
       "      <td>79.032736</td>\n",
       "      <td>75.344376</td>\n",
       "      <td>1</td>\n",
       "    </tr>\n",
       "  </tbody>\n",
       "</table>\n",
       "</div>"
      ],
      "text/plain": [
       "       text1      text2  admitted\n",
       "0  34.623660  78.024693         0\n",
       "1  30.286711  43.894998         0\n",
       "2  35.847409  72.902198         0\n",
       "3  60.182599  86.308552         1\n",
       "4  79.032736  75.344376         1"
      ]
     },
     "execution_count": 2,
     "metadata": {},
     "output_type": "execute_result"
    }
   ],
   "source": [
    "data1 = pd.read_csv('ex2data1.txt', names=['text1', 'text2', 'admitted'])\n",
    "data1.head()"
   ]
  },
  {
   "cell_type": "code",
   "execution_count": 3,
   "id": "ca1ec978",
   "metadata": {},
   "outputs": [
    {
     "data": {
      "text/html": [
       "<div>\n",
       "<style scoped>\n",
       "    .dataframe tbody tr th:only-of-type {\n",
       "        vertical-align: middle;\n",
       "    }\n",
       "\n",
       "    .dataframe tbody tr th {\n",
       "        vertical-align: top;\n",
       "    }\n",
       "\n",
       "    .dataframe thead th {\n",
       "        text-align: right;\n",
       "    }\n",
       "</style>\n",
       "<table border=\"1\" class=\"dataframe\">\n",
       "  <thead>\n",
       "    <tr style=\"text-align: right;\">\n",
       "      <th></th>\n",
       "      <th>text1</th>\n",
       "      <th>text2</th>\n",
       "      <th>admitted</th>\n",
       "    </tr>\n",
       "  </thead>\n",
       "  <tbody>\n",
       "    <tr>\n",
       "      <th>count</th>\n",
       "      <td>100.000000</td>\n",
       "      <td>100.000000</td>\n",
       "      <td>100.000000</td>\n",
       "    </tr>\n",
       "    <tr>\n",
       "      <th>mean</th>\n",
       "      <td>65.644274</td>\n",
       "      <td>66.221998</td>\n",
       "      <td>0.600000</td>\n",
       "    </tr>\n",
       "    <tr>\n",
       "      <th>std</th>\n",
       "      <td>19.458222</td>\n",
       "      <td>18.582783</td>\n",
       "      <td>0.492366</td>\n",
       "    </tr>\n",
       "    <tr>\n",
       "      <th>min</th>\n",
       "      <td>30.058822</td>\n",
       "      <td>30.603263</td>\n",
       "      <td>0.000000</td>\n",
       "    </tr>\n",
       "    <tr>\n",
       "      <th>25%</th>\n",
       "      <td>50.919511</td>\n",
       "      <td>48.179205</td>\n",
       "      <td>0.000000</td>\n",
       "    </tr>\n",
       "    <tr>\n",
       "      <th>50%</th>\n",
       "      <td>67.032988</td>\n",
       "      <td>67.682381</td>\n",
       "      <td>1.000000</td>\n",
       "    </tr>\n",
       "    <tr>\n",
       "      <th>75%</th>\n",
       "      <td>80.212529</td>\n",
       "      <td>79.360605</td>\n",
       "      <td>1.000000</td>\n",
       "    </tr>\n",
       "    <tr>\n",
       "      <th>max</th>\n",
       "      <td>99.827858</td>\n",
       "      <td>98.869436</td>\n",
       "      <td>1.000000</td>\n",
       "    </tr>\n",
       "  </tbody>\n",
       "</table>\n",
       "</div>"
      ],
      "text/plain": [
       "            text1       text2    admitted\n",
       "count  100.000000  100.000000  100.000000\n",
       "mean    65.644274   66.221998    0.600000\n",
       "std     19.458222   18.582783    0.492366\n",
       "min     30.058822   30.603263    0.000000\n",
       "25%     50.919511   48.179205    0.000000\n",
       "50%     67.032988   67.682381    1.000000\n",
       "75%     80.212529   79.360605    1.000000\n",
       "max     99.827858   98.869436    1.000000"
      ]
     },
     "execution_count": 3,
     "metadata": {},
     "output_type": "execute_result"
    }
   ],
   "source": [
    "data1.describe()"
   ]
  },
  {
   "cell_type": "code",
   "execution_count": 4,
   "id": "5d187069",
   "metadata": {},
   "outputs": [
    {
     "data": {
      "image/png": "[encoded data removed]",
      "text/plain": [
       "<Figure size 1200x800 with 1 Axes>"
      ]
     },
     "metadata": {},
     "output_type": "display_data"
    }
   ],
   "source": [
    "positive = data1[data1[\"admitted\"].isin([1])]\n",
    "negative = data1[data1[\"admitted\"].isin([0])]\n",
    "\n",
    "fig, ax = plt.subplots(figsize=(12,8))\n",
    "ax.scatter(positive['text1'], positive['text2'], s=50, c='b', marker='o', label='admitted')   \n",
    "ax.scatter(negative['text1'], negative['text2'], s=50, c='r', marker='x', label='not admitted')\n",
    "\n",
    "ax.legend()   \n",
    "ax.grid(True)\n",
    "ax.set_xlabel('text 1 Score')\n",
    "ax.set_ylabel('text 2 Score')\n",
    "plt.show()"
   ]
  },
  {
   "cell_type": "code",
   "execution_count": 5,
   "id": "18143815",
   "metadata": {},
   "outputs": [],
   "source": [
    "def get_X(df): # read features\n",
    "    ones = pd.DataFrame({'ones': np.ones(len(df))})#ones is a frame with m rows and 1 columns\n",
    "    data = pd.concat([ones, df], axis=1)  # Combine data, merge by column\n",
    "    return data.iloc[:, :-1].to_numpy()  # This operation returns an ndarray, not a matrix, which converts data in the form of a dataframe into an array.\n",
    " \n",
    "def get_y(df):\n",
    "    return np.array(df.iloc[:, -1])\n",
    "\n",
    "def normalize_feature(df):  # feature engineering\n",
    "    return df.apply(lambda column: (column - column.mean()) / column.std())"
   ]
  },
  {
   "cell_type": "code",
   "execution_count": 6,
   "id": "d048b981",
   "metadata": {},
   "outputs": [],
   "source": [
    "X = get_X(data1)\n",
    "y = get_y(data1)"
   ]
  },
  {
   "cell_type": "markdown",
   "id": "e8a92fa2",
   "metadata": {},
   "source": [
    "## Logistic Regression with sklearn"
   ]
  },
  {
   "cell_type": "code",
   "execution_count": 7,
   "id": "293f09a1",
   "metadata": {},
   "outputs": [
    {
     "data": {
      "text/plain": [
       "0.89"
      ]
     },
     "execution_count": 7,
     "metadata": {},
     "output_type": "execute_result"
    }
   ],
   "source": [
    "from sklearn import linear_model\n",
    "model = linear_model.LogisticRegression(penalty='l2', C=1.0)\n",
    "model.fit(X, y.ravel())\n",
    "model.score(X, y)"
   ]
  },
  {
   "cell_type": "markdown",
   "id": "4405fdc3",
   "metadata": {},
   "source": [
    "## Sigmoid function\n",
    "g represents a commonly used logistic function as S-shaped function (sigmoid function) with the formula:\n",
    " \\\\[g\\left( z \\right)=\\frac{1}{1+{{e}^{-z}}}\\\\] \n",
    "we get the hypothesis function for the logistic regression model:\n",
    "\\\\[{{h}_{\\theta }}\\left( x \\right)=\\frac{1}{1+{{e}^{-{{\\theta }^{T}}X}}}\\\\] "
   ]
  },
  {
   "cell_type": "code",
   "execution_count": 8,
   "id": "0b943e9b",
   "metadata": {},
   "outputs": [],
   "source": [
    "def sigmoid(z):\n",
    "    return 1 / (1 + np.exp(-z))"
   ]
  },
  {
   "cell_type": "markdown",
   "id": "d6d018c5",
   "metadata": {},
   "source": [
    "## Cost function\n",
    "\\\\[J\\left( \\theta  \\right)=\\frac{1}{m}\\sum\\limits_{i=1}^{m}{[-{{y}^{(i)}}\\log \\left( {{h}_{\\theta }}\\left( {{x}^{(i)}} \\right) \\right)-\\left( 1-{{y}^{(i)}} \\right)\\log \\left( 1-{{h}_{\\theta }}\\left( {{x}^{(i)}} \\right) \\right)}\\\\]"
   ]
  },
  {
   "cell_type": "code",
   "execution_count": 9,
   "id": "af5cebc1",
   "metadata": {},
   "outputs": [],
   "source": [
    "def cost(theta, X, y):\n",
    "    theta=np.matrix(theta) \n",
    "    X=np.matrix(X)\n",
    "    y=np.matrix(y)\n",
    "    first = np.multiply(-y, np.log(sigmoid(X * theta.T)))  # The first term of the formula\n",
    "    second = np.multiply((1 - y), np.log(1 - sigmoid(X * theta.T)))  #The second term of the formula\n",
    "    return np.sum(first - second) / (len(X))"
   ]
  },
  {
   "cell_type": "code",
   "execution_count": 10,
   "id": "d536d9c8",
   "metadata": {},
   "outputs": [],
   "source": [
    "# add a ones column - this makes the matrix multiplication work out easier\n",
    "data1.insert(0, 'Ones', 1) \n",
    "\n",
    "# set X (training data) and y (target variable)\n",
    "cols = data1.shape[1] \n",
    "X = data1.iloc[:,0:cols-1] \n",
    "y = data1.iloc[:,cols-1:cols] \n",
    "\n",
    "# convert to numpy arrays and initalize the parameter array theta\n",
    "X = np.array(X.values) \n",
    "y = np.array(y.values) \n",
    "theta = np.zeros(3) "
   ]
  },
  {
   "cell_type": "code",
   "execution_count": 11,
   "id": "e7571dad",
   "metadata": {},
   "outputs": [
    {
     "data": {
      "text/plain": [
       "0.6931471805599453"
      ]
     },
     "execution_count": 11,
     "metadata": {},
     "output_type": "execute_result"
    }
   ],
   "source": [
    "cost(theta, X, y)"
   ]
  },
  {
   "cell_type": "markdown",
   "id": "7684181a",
   "metadata": {},
   "source": [
    "## Gradient Descent\n",
    "$$\\frac{\\partial J\\left( \\theta  \\right)}{\\partial {{\\theta }_{j}}}=\\frac{1}{m}\\sum\\limits_{i=1}^{m}{({{h}_{\\theta }}\\left( {{x}^{(i)}} \\right)-{{y}^{(i)}})x_{_{j}}^{(i)}}$$"
   ]
  },
  {
   "cell_type": "code",
   "execution_count": 12,
   "id": "a5e6316e",
   "metadata": {},
   "outputs": [],
   "source": [
    "def gradient(theta, X, y):\n",
    "    theta=np.matrix(theta) \n",
    "    X=np.matrix(X) \n",
    "    y=np.matrix(y) \n",
    "    \n",
    "    temp=np.matrix(np.zeros(theta.shape)) \n",
    "    parameters= int(theta.ravel().shape[1])  \n",
    "\n",
    "    grad = np.zeros(parameters)\n",
    "    \n",
    "    error = sigmoid(X * theta.T) - y     # h_theta(x) - y\n",
    "    \n",
    "    for i in range(parameters):\n",
    "        term = np.multiply(error, X[:,i]) \n",
    "        grad[i] = np.sum(term) / len(X)\n",
    "    \n",
    "    return grad"
   ]
  },
  {
   "cell_type": "code",
   "execution_count": 13,
   "id": "c60ea36c",
   "metadata": {},
   "outputs": [
    {
     "data": {
      "text/plain": [
       "array([ -0.1       , -12.00921659, -11.26284221])"
      ]
     },
     "execution_count": 13,
     "metadata": {},
     "output_type": "execute_result"
    }
   ],
   "source": [
    "gradient(theta, X, y)"
   ]
  },
  {
   "cell_type": "code",
   "execution_count": 14,
   "id": "85f8eacf",
   "metadata": {},
   "outputs": [
    {
     "data": {
      "text/plain": [
       "(array([-25.16131863,   0.20623159,   0.20147149]), 36, 0)"
      ]
     },
     "execution_count": 14,
     "metadata": {},
     "output_type": "execute_result"
    }
   ],
   "source": [
    "# Optimization with scipy\n",
    "import scipy.optimize as opt\n",
    "result = opt.fmin_tnc(func=cost, x0=theta, fprime=gradient, args=(X,y))\n",
    "result"
   ]
  },
  {
   "cell_type": "code",
   "execution_count": 15,
   "id": "7e68279b",
   "metadata": {},
   "outputs": [
    {
     "data": {
      "text/plain": [
       "0.20349770158947458"
      ]
     },
     "execution_count": 15,
     "metadata": {},
     "output_type": "execute_result"
    }
   ],
   "source": [
    "# Check the const function\n",
    "cost(result[0], X, y)"
   ]
  },
  {
   "cell_type": "markdown",
   "id": "c447beab",
   "metadata": {},
   "source": [
    "## Prediction and Validation"
   ]
  },
  {
   "cell_type": "code",
   "execution_count": 16,
   "id": "c437bf54",
   "metadata": {},
   "outputs": [],
   "source": [
    "def predictA(x, theta):\n",
    "    prob = sigmoid(x @ theta)\n",
    "    return(prob >= 0.5).astype(int)      #  return 1 or 0"
   ]
  },
  {
   "cell_type": "code",
   "execution_count": 17,
   "id": "b5a30487",
   "metadata": {},
   "outputs": [
    {
     "name": "stdout",
     "output_type": "stream",
     "text": [
      "              precision    recall  f1-score   support\n",
      "\n",
      "           0       0.87      0.85      0.86        40\n",
      "           1       0.90      0.92      0.91        60\n",
      "\n",
      "    accuracy                           0.89       100\n",
      "   macro avg       0.89      0.88      0.88       100\n",
      "weighted avg       0.89      0.89      0.89       100\n",
      "\n"
     ]
    }
   ],
   "source": [
    "final_thetal = result[0]\n",
    "y_pred = predictA(X, final_thetal)\n",
    "\n",
    "print(classification_report(y, y_pred))\n",
    "\n",
    "# precision = TP / (TP+FP)\n",
    "# High precision indicates that the model is accurate in its positive predictions.\n",
    "# recall = TP / (TP+FN)\n",
    "# High recall means that the model is good at identifying most of the actual positive instances.\n",
    "# f1-score = 2 * (precision*recall) / (precision+recall)\n",
    "# The f1-score is a single metric that combines both precision and recall, with a high value indicating good performance in both aspects."
   ]
  },
  {
   "cell_type": "code",
   "execution_count": 18,
   "id": "b1d620e6",
   "metadata": {},
   "outputs": [],
   "source": [
    "def predictB(theta, X): \n",
    "    probability = sigmoid(X * theta.T)\n",
    "    return [1 if x >= 0.5 else 0 for x in probability]  #大于0.5的数取值为1，小于0.5的为0"
   ]
  },
  {
   "cell_type": "code",
   "execution_count": 19,
   "id": "af3b4a98",
   "metadata": {},
   "outputs": [
    {
     "name": "stdout",
     "output_type": "stream",
     "text": [
      "accuracy = 89%\n"
     ]
    }
   ],
   "source": [
    "# Check the accuracy\n",
    "theta_min = np.matrix(result[0])\n",
    "predictions = predictB(theta_min, X)\n",
    "correct = [1 if ((a ==1 and b ==1) or (a==0 and b == 0)) else 0 for (a, b) in zip(predictions, y)]\n",
    "accuracy = (sum(map(int, correct)) % len(correct))\n",
    "\n",
    "print('accuracy = {0}%'.format(accuracy))"
   ]
  },
  {
   "cell_type": "markdown",
   "id": "2755df96",
   "metadata": {},
   "source": [
    "## Look for the decision boundary\n",
    "when $g(z) = 0.5$, which means $1 = e^{-\\theta \\cdot x}$, we can find the decision boundary is given as:\n",
    "\\\\[ \\theta \\cdot X = 0\\\\]"
   ]
  },
  {
   "cell_type": "code",
   "execution_count": 20,
   "id": "55dd8b9a",
   "metadata": {},
   "outputs": [
    {
     "name": "stdout",
     "output_type": "stream",
     "text": [
      "[-25.16131863   0.20623159   0.20147149]\n"
     ]
    }
   ],
   "source": [
    "# the final theta is:\n",
    "print (result[0])"
   ]
  },
  {
   "cell_type": "code",
   "execution_count": 21,
   "id": "ca3c3d01",
   "metadata": {},
   "outputs": [
    {
     "name": "stdout",
     "output_type": "stream",
     "text": [
      "[124.88774019  -1.02362668  -1.        ]\n"
     ]
    }
   ],
   "source": [
    "coef = -(result[0]/ ((result[0])[2])) \n",
    "print(coef)\n",
    "\n",
    "plt_x = np.arange(130, step=0.1) \n",
    "plt_y = coef[0] + coef[1]*plt_x"
   ]
  },
  {
   "cell_type": "code",
   "execution_count": 22,
   "id": "77668249",
   "metadata": {
    "scrolled": true
   },
   "outputs": [
    {
     "data": {
      "image/png": "[encoded data removed]",
      "text/plain": [
       "<Figure size 600x600 with 1 Axes>"
      ]
     },
     "metadata": {},
     "output_type": "display_data"
    }
   ],
   "source": [
    "fig, ax = plt.subplots(figsize=(6, 6))  # size 6x6 inches\n",
    "\n",
    "ax.scatter(data1[data1['admitted'] == 1]['text1'], data1[data1['admitted'] == 1]['text2'], s=25, label='Admitted')\n",
    "ax.scatter(data1[data1['admitted'] == 0]['text1'], data1[data1['admitted'] == 0]['text2'], s=25, label='Not Admitted')\n",
    "\n",
    "# plot the decision boundary\n",
    "ax.plot(plt_x, plt_y, 'grey')\n",
    "\n",
    "ax.set_xlim(0, 130)\n",
    "ax.set_ylim(0, 130)\n",
    "ax.set_title('Decision Boundary')\n",
    "ax.legend()\n",
    "\n",
    "plt.show()\n"
   ]
  }
 ],
 "metadata": {
  "kernelspec": {
   "display_name": "Python 3 (ipykernel)",
   "language": "python",
   "name": "python3"
  },
  "language_info": {
   "codemirror_mode": {
    "name": "ipython",
    "version": 3
   },
   "file_extension": ".py",
   "mimetype": "text/x-python",
   "name": "python",
   "nbconvert_exporter": "python",
   "pygments_lexer": "ipython3",
   "version": "3.11.4"
  }
 },
 "nbformat": 4,
 "nbformat_minor": 5
}
